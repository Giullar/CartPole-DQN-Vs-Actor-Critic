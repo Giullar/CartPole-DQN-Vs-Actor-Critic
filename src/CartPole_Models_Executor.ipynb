{
 "cells": [
  {
   "cell_type": "markdown",
   "metadata": {},
   "source": [
    "# CartPole Models Executor\n",
    "By Giulio Vaccari"
   ]
  },
  {
   "cell_type": "markdown",
   "metadata": {},
   "source": [
    "## Load models and initialize environment"
   ]
  },
  {
   "cell_type": "code",
   "execution_count": 1,
   "metadata": {
    "id": "JTVFUwVHjUci"
   },
   "outputs": [],
   "source": [
    "import gym\n",
    "import numpy as np\n",
    "import tensorflow as tf\n",
    "from tensorflow import keras"
   ]
  },
  {
   "cell_type": "code",
   "execution_count": 2,
   "metadata": {},
   "outputs": [],
   "source": [
    "# Global params\n",
    "n_actions = 2\n",
    "\n",
    "# DQN specific params\n",
    "dqn_epsilon_eval = 0.05"
   ]
  },
  {
   "cell_type": "code",
   "execution_count": 3,
   "metadata": {
    "colab": {
     "base_uri": "https://localhost:8080/"
    },
    "id": "A7oAFHhcjI24",
    "outputId": "11dd122d-8bc6-4ce8-d231-bce6862c7996"
   },
   "outputs": [
    {
     "name": "stdout",
     "output_type": "stream",
     "text": [
      "WARNING:tensorflow:No training configuration found in the save file, so the model was *not* compiled. Compile it manually.\n",
      "WARNING:tensorflow:No training configuration found in the save file, so the model was *not* compiled. Compile it manually.\n"
     ]
    }
   ],
   "source": [
    "# Load models and weights\n",
    "\n",
    "# DQN Agent\n",
    "qdn_model = keras.models.load_model(\"dqn_model_nt.h5\")\n",
    "\n",
    "# Actor-Critc Agent\n",
    "actor_network = keras.models.load_model(\"ac_policy_nt.h5\")\n",
    "#critic_network = keras.models.load_model(\"ac_value_nt.h5\")"
   ]
  },
  {
   "cell_type": "code",
   "execution_count": 4,
   "metadata": {
    "id": "F0Xqwyjyjc6_"
   },
   "outputs": [],
   "source": [
    "# Init gym environment\n",
    "env = gym.make(\"CartPole-v1\")"
   ]
  },
  {
   "cell_type": "code",
   "execution_count": 5,
   "metadata": {},
   "outputs": [],
   "source": [
    "# Define functions used by the agents\n",
    "\n",
    "# DQN Policy\n",
    "def epsilon_greedy_policy(model, state, n_actions, epsilon=0):\n",
    "    if np.random.rand() < epsilon:\n",
    "        # Perform random action\n",
    "        random_move = np.random.randint(n_actions)\n",
    "        return random_move\n",
    "    else:\n",
    "        # Obtain q-values for each possible action\n",
    "        q_values = model.predict(state[None])\n",
    "        # Choose action with maximum value\n",
    "        return np.argmax(q_values)\n",
    "\n",
    "# Actor-Critic Policy\n",
    "def actor_critic_policy(state, policy_network):\n",
    "    # Obtain probability distribution over the actions for the specified game state\n",
    "    p_dist = policy_network.predict(state[None])\n",
    "    # Sample a random action using that distribution\n",
    "    action = np.random.choice(n_actions, p=p_dist[0])\n",
    "    return action"
   ]
  },
  {
   "cell_type": "markdown",
   "metadata": {},
   "source": [
    "## Game Playing"
   ]
  },
  {
   "cell_type": "markdown",
   "metadata": {},
   "source": [
    "### DQN Agent"
   ]
  },
  {
   "cell_type": "code",
   "execution_count": 6,
   "metadata": {
    "colab": {
     "base_uri": "https://localhost:8080/",
     "height": 374
    },
    "id": "ZBynhCSSjnNx",
    "outputId": "c129053d-ffbf-4ec5-df8b-b640199f4d97"
   },
   "outputs": [
    {
     "name": "stdout",
     "output_type": "stream",
     "text": [
      "Episode finished after 184 timesteps\n"
     ]
    }
   ],
   "source": [
    "for episode in range(1): # Play one game\n",
    "    state = env.reset()\n",
    "    for t in range(1000):\n",
    "        env.render()\n",
    "        action = epsilon_greedy_policy(qdn_model, state, n_actions, epsilon=dqn_epsilon_eval)\n",
    "        state, reward, done, info = env.step(action)\n",
    "        if done:\n",
    "            print(\"Episode finished after {} timesteps\".format(t+1))\n",
    "            break\n",
    "env.close()"
   ]
  },
  {
   "cell_type": "markdown",
   "metadata": {},
   "source": [
    "### Actor-Critic Agent"
   ]
  },
  {
   "cell_type": "code",
   "execution_count": 7,
   "metadata": {},
   "outputs": [
    {
     "name": "stdout",
     "output_type": "stream",
     "text": [
      "Episode finished after 500 timesteps\n"
     ]
    }
   ],
   "source": [
    "for episode in range(1): # Play one game\n",
    "    state = env.reset()\n",
    "    for t in range(1000):\n",
    "        env.render()\n",
    "        action = actor_critic_policy(state, actor_network)\n",
    "        state, reward, done, info = env.step(action)\n",
    "        if done:\n",
    "            print(\"Episode finished after {} timesteps\".format(t+1))\n",
    "            break\n",
    "env.close()"
   ]
  }
 ],
 "metadata": {
  "colab": {
   "collapsed_sections": [],
   "name": "RL_Model_Executor.ipynb",
   "provenance": []
  },
  "kernelspec": {
   "display_name": "Python 3",
   "language": "python",
   "name": "python3"
  },
  "language_info": {
   "codemirror_mode": {
    "name": "ipython",
    "version": 3
   },
   "file_extension": ".py",
   "mimetype": "text/x-python",
   "name": "python",
   "nbconvert_exporter": "python",
   "pygments_lexer": "ipython3",
   "version": "3.7.10"
  }
 },
 "nbformat": 4,
 "nbformat_minor": 1
}
